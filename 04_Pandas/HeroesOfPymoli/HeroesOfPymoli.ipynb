{
 "cells": [
  {
   "cell_type": "markdown",
   "metadata": {},
   "source": [
    "# Hero of Pymoli Data Analysis\n",
    "\n",
    "<1. Gender>\n",
    "- A 84% majority of players are male with just 14% female. Even though there's far fewer female player, their average spend is actually ~10% higher than for males.\n",
    "\n",
    "<2. Age Demographics>\n",
    "- Outside from the two main age demographics of 15-19 and 20-24, the other age groups still spend about the same on average. In fact, the two highest spending groups are actually 30-34 (avg total $ 4.76) and <10 (avg total$ 4.54). \n",
    "\n",
    "<3. Items>\n",
    "- Purchases are evenly spread out among many people. The top spender only purchased 5 items(total $ 18). Also, for items, the most popular item was purchased only 12 times. 4/5 most people items are also the most profitable."
   ]
  },
  {
   "cell_type": "code",
   "execution_count": 1,
   "metadata": {},
   "outputs": [],
   "source": [
    "# Dependencies\n",
    "import pandas as pd\n",
    "import numpy as np"
   ]
  },
  {
   "cell_type": "code",
   "execution_count": 2,
   "metadata": {},
   "outputs": [
    {
     "data": {
      "text/html": [
       "<div>\n",
       "<style scoped>\n",
       "    .dataframe tbody tr th:only-of-type {\n",
       "        vertical-align: middle;\n",
       "    }\n",
       "\n",
       "    .dataframe tbody tr th {\n",
       "        vertical-align: top;\n",
       "    }\n",
       "\n",
       "    .dataframe thead th {\n",
       "        text-align: right;\n",
       "    }\n",
       "</style>\n",
       "<table border=\"1\" class=\"dataframe\">\n",
       "  <thead>\n",
       "    <tr style=\"text-align: right;\">\n",
       "      <th></th>\n",
       "      <th>Purchase ID</th>\n",
       "      <th>SN</th>\n",
       "      <th>Age</th>\n",
       "      <th>Gender</th>\n",
       "      <th>Item ID</th>\n",
       "      <th>Item Name</th>\n",
       "      <th>Price</th>\n",
       "    </tr>\n",
       "  </thead>\n",
       "  <tbody>\n",
       "    <tr>\n",
       "      <th>0</th>\n",
       "      <td>0</td>\n",
       "      <td>Lisim78</td>\n",
       "      <td>20</td>\n",
       "      <td>Male</td>\n",
       "      <td>108</td>\n",
       "      <td>Extraction, Quickblade Of Trembling Hands</td>\n",
       "      <td>3.53</td>\n",
       "    </tr>\n",
       "    <tr>\n",
       "      <th>1</th>\n",
       "      <td>1</td>\n",
       "      <td>Lisovynya38</td>\n",
       "      <td>40</td>\n",
       "      <td>Male</td>\n",
       "      <td>143</td>\n",
       "      <td>Frenzied Scimitar</td>\n",
       "      <td>1.56</td>\n",
       "    </tr>\n",
       "  </tbody>\n",
       "</table>\n",
       "</div>"
      ],
      "text/plain": [
       "   Purchase ID           SN  Age Gender  Item ID  \\\n",
       "0            0      Lisim78   20   Male      108   \n",
       "1            1  Lisovynya38   40   Male      143   \n",
       "\n",
       "                                   Item Name  Price  \n",
       "0  Extraction, Quickblade Of Trembling Hands   3.53  \n",
       "1                          Frenzied Scimitar   1.56  "
      ]
     },
     "execution_count": 2,
     "metadata": {},
     "output_type": "execute_result"
    }
   ],
   "source": [
    "# File to Load \n",
    "file_to_load = \"Resources/purchase_data.csv\"\n",
    "\n",
    "# Read Purchasing File and store into Pandas data frame\n",
    "purchase_data = pd.read_csv(file_to_load)\n",
    "\n",
    "purchase_data.head(2)"
   ]
  },
  {
   "cell_type": "code",
   "execution_count": 3,
   "metadata": {},
   "outputs": [
    {
     "data": {
      "text/plain": [
       "Index(['Purchase ID', 'SN', 'Age', 'Gender', 'Item ID', 'Item Name', 'Price'], dtype='object')"
      ]
     },
     "execution_count": 3,
     "metadata": {},
     "output_type": "execute_result"
    }
   ],
   "source": [
    "purchase_data.columns"
   ]
  },
  {
   "cell_type": "markdown",
   "metadata": {},
   "source": [
    "## Player Count"
   ]
  },
  {
   "cell_type": "code",
   "execution_count": 4,
   "metadata": {},
   "outputs": [
    {
     "data": {
      "text/html": [
       "<div>\n",
       "<style scoped>\n",
       "    .dataframe tbody tr th:only-of-type {\n",
       "        vertical-align: middle;\n",
       "    }\n",
       "\n",
       "    .dataframe tbody tr th {\n",
       "        vertical-align: top;\n",
       "    }\n",
       "\n",
       "    .dataframe thead th {\n",
       "        text-align: right;\n",
       "    }\n",
       "</style>\n",
       "<table border=\"1\" class=\"dataframe\">\n",
       "  <thead>\n",
       "    <tr style=\"text-align: right;\">\n",
       "      <th></th>\n",
       "      <th>Total Players</th>\n",
       "    </tr>\n",
       "  </thead>\n",
       "  <tbody>\n",
       "    <tr>\n",
       "      <th>0</th>\n",
       "      <td>576</td>\n",
       "    </tr>\n",
       "  </tbody>\n",
       "</table>\n",
       "</div>"
      ],
      "text/plain": [
       "   Total Players\n",
       "0            576"
      ]
     },
     "execution_count": 4,
     "metadata": {},
     "output_type": "execute_result"
    }
   ],
   "source": [
    "# Display the total number of players\n",
    "totalPlayers = purchase_data['SN'].nunique()\n",
    "\n",
    "totalPlayers_table = pd.DataFrame({\"Total Players\":[totalPlayers]})\n",
    "totalPlayers_table"
   ]
  },
  {
   "cell_type": "code",
   "execution_count": 5,
   "metadata": {},
   "outputs": [],
   "source": [
    "# Memo: This cell's result is same as the above cell\n",
    "\n",
    "# Display the total number of players\n",
    "# Memo: The value_counts method counts unique value in a column\n",
    "## totalPlayers = purchase_data[\"SN\"].value_counts()\n",
    "\n",
    "# Memo: To print a single scalar value, wrap with []. e.g. [singleValue]\n",
    "## totalPlayers_table = pd.DataFrame({\"Total Players\": [totalPlayers.count()]})\n",
    "## totalPlayers_table.head()"
   ]
  },
  {
   "cell_type": "markdown",
   "metadata": {},
   "source": [
    "## Purchasing Analysis (Total) "
   ]
  },
  {
   "cell_type": "code",
   "execution_count": 6,
   "metadata": {},
   "outputs": [
    {
     "data": {
      "text/html": [
       "<div>\n",
       "<style scoped>\n",
       "    .dataframe tbody tr th:only-of-type {\n",
       "        vertical-align: middle;\n",
       "    }\n",
       "\n",
       "    .dataframe tbody tr th {\n",
       "        vertical-align: top;\n",
       "    }\n",
       "\n",
       "    .dataframe thead th {\n",
       "        text-align: right;\n",
       "    }\n",
       "</style>\n",
       "<table border=\"1\" class=\"dataframe\">\n",
       "  <thead>\n",
       "    <tr style=\"text-align: right;\">\n",
       "      <th></th>\n",
       "      <th>Number of Unique Item</th>\n",
       "      <th>Average Price</th>\n",
       "      <th>Number of Purchases</th>\n",
       "      <th>Total Revenue</th>\n",
       "    </tr>\n",
       "  </thead>\n",
       "  <tbody>\n",
       "    <tr>\n",
       "      <th>0</th>\n",
       "      <td>183</td>\n",
       "      <td>$3.05</td>\n",
       "      <td>780</td>\n",
       "      <td>$2,379.77</td>\n",
       "    </tr>\n",
       "  </tbody>\n",
       "</table>\n",
       "</div>"
      ],
      "text/plain": [
       "   Number of Unique Item Average Price  Number of Purchases Total Revenue\n",
       "0                    183         $3.05                  780     $2,379.77"
      ]
     },
     "execution_count": 6,
     "metadata": {},
     "output_type": "execute_result"
    }
   ],
   "source": [
    "# Number of Unique Items\n",
    "uniqueItems = purchase_data[\"Item ID\"].value_counts().count()\n",
    "# Average Purchase Price\n",
    "averagePurchase = purchase_data[\"Price\"].mean()\n",
    "# Format two places of decimals\n",
    "averagePurchase = \"{0:0.2f}\".format(averagePurchase)\n",
    "# Total Number of Purchases\n",
    "totalPurchase = purchase_data[\"Price\"].count()\n",
    "# Total Revenue\n",
    "totalRevenue = purchase_data[\"Price\"].sum()\n",
    "\n",
    "# Format a number to commas to separate thousands \n",
    "totalRevenue = \"{:,}\".format(totalRevenue)\n",
    "    \n",
    "purchasingSummary_table = pd.DataFrame({\"Number of Unique Item\":[uniqueItems], \n",
    "                                       \"Average Price\":\"$\"+str(averagePurchase), \"Number of Purchases\": totalPurchase, \n",
    "                                       \"Total Revenue\":\"$\"+str(totalRevenue)})\n",
    "purchasingSummary_table"
   ]
  },
  {
   "cell_type": "markdown",
   "metadata": {},
   "source": [
    "## Gender Demographics "
   ]
  },
  {
   "cell_type": "code",
   "execution_count": 7,
   "metadata": {},
   "outputs": [],
   "source": [
    "# Count of players per gender\n",
    "# Memo: nunique = Return number of unique elements in the object\n",
    "genderCounts = purchase_data.groupby('Gender')['SN'].nunique()\n",
    "genderCounts = genderCounts.sort_values(ascending=False)"
   ]
  },
  {
   "cell_type": "code",
   "execution_count": 8,
   "metadata": {
    "scrolled": true
   },
   "outputs": [
    {
     "data": {
      "text/html": [
       "<style  type=\"text/css\" >\n",
       "</style><table id=\"T_35d2ceb6_d679_11e9_b49f_8c8590344157\" ><thead>    <tr>        <th class=\"blank level0\" ></th>        <th class=\"col_heading level0 col0\" >Gender</th>        <th class=\"col_heading level0 col1\" >Percentage of Players</th>    </tr>    <tr>        <th class=\"index_name level0\" >Gender</th>        <th class=\"blank\" ></th>        <th class=\"blank\" ></th>    </tr></thead><tbody>\n",
       "                <tr>\n",
       "                        <th id=\"T_35d2ceb6_d679_11e9_b49f_8c8590344157level0_row0\" class=\"row_heading level0 row0\" >Male</th>\n",
       "                        <td id=\"T_35d2ceb6_d679_11e9_b49f_8c8590344157row0_col0\" class=\"data row0 col0\" >484</td>\n",
       "                        <td id=\"T_35d2ceb6_d679_11e9_b49f_8c8590344157row0_col1\" class=\"data row0 col1\" >84.03</td>\n",
       "            </tr>\n",
       "            <tr>\n",
       "                        <th id=\"T_35d2ceb6_d679_11e9_b49f_8c8590344157level0_row1\" class=\"row_heading level0 row1\" >Female</th>\n",
       "                        <td id=\"T_35d2ceb6_d679_11e9_b49f_8c8590344157row1_col0\" class=\"data row1 col0\" >81</td>\n",
       "                        <td id=\"T_35d2ceb6_d679_11e9_b49f_8c8590344157row1_col1\" class=\"data row1 col1\" >14.06</td>\n",
       "            </tr>\n",
       "            <tr>\n",
       "                        <th id=\"T_35d2ceb6_d679_11e9_b49f_8c8590344157level0_row2\" class=\"row_heading level0 row2\" >Other / Non-Disclosed</th>\n",
       "                        <td id=\"T_35d2ceb6_d679_11e9_b49f_8c8590344157row2_col0\" class=\"data row2 col0\" >11</td>\n",
       "                        <td id=\"T_35d2ceb6_d679_11e9_b49f_8c8590344157row2_col1\" class=\"data row2 col1\" >1.91</td>\n",
       "            </tr>\n",
       "    </tbody></table>"
      ],
      "text/plain": [
       "<pandas.io.formats.style.Styler at 0x11bd357b8>"
      ]
     },
     "execution_count": 8,
     "metadata": {},
     "output_type": "execute_result"
    }
   ],
   "source": [
    "# Percentage of players per gender\n",
    "genderDemographics_table = pd.DataFrame({\"Gender\":genderCounts, \n",
    "                                        \"Percentage of Players\":genderCounts / totalPlayers * 100})\n",
    "\n",
    "genderDemographics_table.style.format({'Percentage of Players':\"{0:0.2f}\"})"
   ]
  },
  {
   "cell_type": "markdown",
   "metadata": {},
   "source": [
    "## Purchasing Analysis (Gender)"
   ]
  },
  {
   "cell_type": "code",
   "execution_count": 9,
   "metadata": {},
   "outputs": [
    {
     "data": {
      "text/html": [
       "<style  type=\"text/css\" >\n",
       "</style><table id=\"T_35d6041e_d679_11e9_b49f_8c8590344157\" ><thead>    <tr>        <th class=\"blank level0\" ></th>        <th class=\"col_heading level0 col0\" >Purchase Count</th>        <th class=\"col_heading level0 col1\" >Avg Purchase Value</th>        <th class=\"col_heading level0 col2\" >Total Purchase Value</th>        <th class=\"col_heading level0 col3\" >Avg Total Purchase per Person</th>    </tr>    <tr>        <th class=\"index_name level0\" >Gender</th>        <th class=\"blank\" ></th>        <th class=\"blank\" ></th>        <th class=\"blank\" ></th>        <th class=\"blank\" ></th>    </tr></thead><tbody>\n",
       "                <tr>\n",
       "                        <th id=\"T_35d6041e_d679_11e9_b49f_8c8590344157level0_row0\" class=\"row_heading level0 row0\" >Female</th>\n",
       "                        <td id=\"T_35d6041e_d679_11e9_b49f_8c8590344157row0_col0\" class=\"data row0 col0\" >113</td>\n",
       "                        <td id=\"T_35d6041e_d679_11e9_b49f_8c8590344157row0_col1\" class=\"data row0 col1\" >$3.20</td>\n",
       "                        <td id=\"T_35d6041e_d679_11e9_b49f_8c8590344157row0_col2\" class=\"data row0 col2\" >$361.94</td>\n",
       "                        <td id=\"T_35d6041e_d679_11e9_b49f_8c8590344157row0_col3\" class=\"data row0 col3\" >$4.47</td>\n",
       "            </tr>\n",
       "            <tr>\n",
       "                        <th id=\"T_35d6041e_d679_11e9_b49f_8c8590344157level0_row1\" class=\"row_heading level0 row1\" >Male</th>\n",
       "                        <td id=\"T_35d6041e_d679_11e9_b49f_8c8590344157row1_col0\" class=\"data row1 col0\" >652</td>\n",
       "                        <td id=\"T_35d6041e_d679_11e9_b49f_8c8590344157row1_col1\" class=\"data row1 col1\" >$3.02</td>\n",
       "                        <td id=\"T_35d6041e_d679_11e9_b49f_8c8590344157row1_col2\" class=\"data row1 col2\" >$1,967.64</td>\n",
       "                        <td id=\"T_35d6041e_d679_11e9_b49f_8c8590344157row1_col3\" class=\"data row1 col3\" >$4.07</td>\n",
       "            </tr>\n",
       "            <tr>\n",
       "                        <th id=\"T_35d6041e_d679_11e9_b49f_8c8590344157level0_row2\" class=\"row_heading level0 row2\" >Other / Non-Disclosed</th>\n",
       "                        <td id=\"T_35d6041e_d679_11e9_b49f_8c8590344157row2_col0\" class=\"data row2 col0\" >15</td>\n",
       "                        <td id=\"T_35d6041e_d679_11e9_b49f_8c8590344157row2_col1\" class=\"data row2 col1\" >$3.35</td>\n",
       "                        <td id=\"T_35d6041e_d679_11e9_b49f_8c8590344157row2_col2\" class=\"data row2 col2\" >$50.19</td>\n",
       "                        <td id=\"T_35d6041e_d679_11e9_b49f_8c8590344157row2_col3\" class=\"data row2 col3\" >$4.56</td>\n",
       "            </tr>\n",
       "    </tbody></table>"
      ],
      "text/plain": [
       "<pandas.io.formats.style.Styler at 0x11bd35cc0>"
      ]
     },
     "execution_count": 9,
     "metadata": {},
     "output_type": "execute_result"
    }
   ],
   "source": [
    "# Purchase Count\n",
    "countPurchase = purchase_data.groupby('Gender')['Purchase ID'].nunique()\n",
    "# Avg Purchase Value\n",
    "avgPurchase = purchase_data.groupby('Gender')['Price'].mean()\n",
    "# Total Purchase Value \n",
    "totalPurchase = purchase_data.groupby('Gender')['Price'].sum()\n",
    "# Avg Total Purchase per Person\n",
    "avgPurchasePerson = totalPurchase / genderCounts \n",
    "\n",
    "# Create a summary data frame to hold the results\n",
    "purchasingAnalysis_table = pd.DataFrame({\"Purchase Count\":countPurchase, \n",
    "                                        \"Avg Purchase Value\":avgPurchase, \"Total Purchase Value\":totalPurchase, \n",
    "                                        \"Avg Total Purchase per Person\":avgPurchasePerson})\n",
    "purchasingAnalysis_table\n",
    "\n",
    "# Data Formatting with currency style\n",
    "# Memo: https://pandas.pydata.org/pandas-docs/stable/user_guide/style.html\n",
    "purchasingAnalysis_table.style.format({'Avg Purchase Value':\"${0:0.2f}\", \n",
    "                                       'Total Purchase Value':\"${:,.2f}\", \n",
    "                                       'Avg Total Purchase per Person':\"${0:0.2f}\"})"
   ]
  },
  {
   "cell_type": "code",
   "execution_count": 10,
   "metadata": {},
   "outputs": [
    {
     "name": "stdout",
     "output_type": "stream",
     "text": [
      "45\n",
      "7\n"
     ]
    }
   ],
   "source": [
    "# Figure out the min and max age for binning bellow\n",
    "print(purchase_data[\"Age\"].max())\n",
    "print(purchase_data[\"Age\"].min())"
   ]
  },
  {
   "cell_type": "markdown",
   "metadata": {},
   "source": [
    "## Age Demographics "
   ]
  },
  {
   "cell_type": "code",
   "execution_count": 11,
   "metadata": {},
   "outputs": [
    {
     "data": {
      "text/plain": [
       "0    20-24\n",
       "1      40+\n",
       "2    20-24\n",
       "3    20-24\n",
       "4    20-24\n",
       "Name: Age, dtype: category\n",
       "Categories (8, object): [<10 < 10-14 < 15-19 < 20-24 < 25-29 < 30-34 < 35-39 < 40+]"
      ]
     },
     "execution_count": 11,
     "metadata": {},
     "output_type": "execute_result"
    }
   ],
   "source": [
    "# Create bins in which to place values based upon Age\n",
    "binsAge_list = [0, 9, 14, 19, 24, 29, 34, 39, 45]\n",
    "# Create labels for these bins\n",
    "binAge_labels = [\"<10\", \"10-14\", \"15-19\", \"20-24\", \"25-29\", \"30-34\", \"35-39\", \"40+\"]\n",
    "\n",
    "# Slice the data and place it into bins and check the slicer\n",
    "pd.cut(purchase_data[\"Age\"], binsAge_list, labels=binAge_labels).head()"
   ]
  },
  {
   "cell_type": "code",
   "execution_count": 12,
   "metadata": {
    "scrolled": true
   },
   "outputs": [
    {
     "data": {
      "text/html": [
       "<div>\n",
       "<style scoped>\n",
       "    .dataframe tbody tr th:only-of-type {\n",
       "        vertical-align: middle;\n",
       "    }\n",
       "\n",
       "    .dataframe tbody tr th {\n",
       "        vertical-align: top;\n",
       "    }\n",
       "\n",
       "    .dataframe thead th {\n",
       "        text-align: right;\n",
       "    }\n",
       "</style>\n",
       "<table border=\"1\" class=\"dataframe\">\n",
       "  <thead>\n",
       "    <tr style=\"text-align: right;\">\n",
       "      <th></th>\n",
       "      <th>Purchase ID</th>\n",
       "      <th>SN</th>\n",
       "      <th>Age</th>\n",
       "      <th>Gender</th>\n",
       "      <th>Item ID</th>\n",
       "      <th>Item Name</th>\n",
       "      <th>Price</th>\n",
       "      <th>Age Group</th>\n",
       "    </tr>\n",
       "  </thead>\n",
       "  <tbody>\n",
       "    <tr>\n",
       "      <th>0</th>\n",
       "      <td>0</td>\n",
       "      <td>Lisim78</td>\n",
       "      <td>20</td>\n",
       "      <td>Male</td>\n",
       "      <td>108</td>\n",
       "      <td>Extraction, Quickblade Of Trembling Hands</td>\n",
       "      <td>3.53</td>\n",
       "      <td>20-24</td>\n",
       "    </tr>\n",
       "    <tr>\n",
       "      <th>1</th>\n",
       "      <td>1</td>\n",
       "      <td>Lisovynya38</td>\n",
       "      <td>40</td>\n",
       "      <td>Male</td>\n",
       "      <td>143</td>\n",
       "      <td>Frenzied Scimitar</td>\n",
       "      <td>1.56</td>\n",
       "      <td>40+</td>\n",
       "    </tr>\n",
       "  </tbody>\n",
       "</table>\n",
       "</div>"
      ],
      "text/plain": [
       "   Purchase ID           SN  Age Gender  Item ID  \\\n",
       "0            0      Lisim78   20   Male      108   \n",
       "1            1  Lisovynya38   40   Male      143   \n",
       "\n",
       "                                   Item Name  Price Age Group  \n",
       "0  Extraction, Quickblade Of Trembling Hands   3.53     20-24  \n",
       "1                          Frenzied Scimitar   1.56       40+  "
      ]
     },
     "execution_count": 12,
     "metadata": {},
     "output_type": "execute_result"
    }
   ],
   "source": [
    "# Place the data series(bin) into a new column inside of the DataFrame\n",
    "purchase_data[\"Age Group\"] = pd.cut(purchase_data[\"Age\"], binsAge_list, labels=binAge_labels)\n",
    "# Check Age group\n",
    "purchase_data.head(2)"
   ]
  },
  {
   "cell_type": "code",
   "execution_count": 13,
   "metadata": {},
   "outputs": [
    {
     "data": {
      "text/html": [
       "<style  type=\"text/css\" >\n",
       "</style><table id=\"T_35e08344_d679_11e9_b49f_8c8590344157\" ><thead>    <tr>        <th class=\"blank level0\" ></th>        <th class=\"col_heading level0 col0\" >Total Count</th>        <th class=\"col_heading level0 col1\" >Percentage of Players</th>    </tr>    <tr>        <th class=\"index_name level0\" >Age Group</th>        <th class=\"blank\" ></th>        <th class=\"blank\" ></th>    </tr></thead><tbody>\n",
       "                <tr>\n",
       "                        <th id=\"T_35e08344_d679_11e9_b49f_8c8590344157level0_row0\" class=\"row_heading level0 row0\" ><10</th>\n",
       "                        <td id=\"T_35e08344_d679_11e9_b49f_8c8590344157row0_col0\" class=\"data row0 col0\" >17</td>\n",
       "                        <td id=\"T_35e08344_d679_11e9_b49f_8c8590344157row0_col1\" class=\"data row0 col1\" >2.95</td>\n",
       "            </tr>\n",
       "            <tr>\n",
       "                        <th id=\"T_35e08344_d679_11e9_b49f_8c8590344157level0_row1\" class=\"row_heading level0 row1\" >10-14</th>\n",
       "                        <td id=\"T_35e08344_d679_11e9_b49f_8c8590344157row1_col0\" class=\"data row1 col0\" >22</td>\n",
       "                        <td id=\"T_35e08344_d679_11e9_b49f_8c8590344157row1_col1\" class=\"data row1 col1\" >3.82</td>\n",
       "            </tr>\n",
       "            <tr>\n",
       "                        <th id=\"T_35e08344_d679_11e9_b49f_8c8590344157level0_row2\" class=\"row_heading level0 row2\" >15-19</th>\n",
       "                        <td id=\"T_35e08344_d679_11e9_b49f_8c8590344157row2_col0\" class=\"data row2 col0\" >107</td>\n",
       "                        <td id=\"T_35e08344_d679_11e9_b49f_8c8590344157row2_col1\" class=\"data row2 col1\" >18.58</td>\n",
       "            </tr>\n",
       "            <tr>\n",
       "                        <th id=\"T_35e08344_d679_11e9_b49f_8c8590344157level0_row3\" class=\"row_heading level0 row3\" >20-24</th>\n",
       "                        <td id=\"T_35e08344_d679_11e9_b49f_8c8590344157row3_col0\" class=\"data row3 col0\" >258</td>\n",
       "                        <td id=\"T_35e08344_d679_11e9_b49f_8c8590344157row3_col1\" class=\"data row3 col1\" >44.79</td>\n",
       "            </tr>\n",
       "            <tr>\n",
       "                        <th id=\"T_35e08344_d679_11e9_b49f_8c8590344157level0_row4\" class=\"row_heading level0 row4\" >25-29</th>\n",
       "                        <td id=\"T_35e08344_d679_11e9_b49f_8c8590344157row4_col0\" class=\"data row4 col0\" >77</td>\n",
       "                        <td id=\"T_35e08344_d679_11e9_b49f_8c8590344157row4_col1\" class=\"data row4 col1\" >13.37</td>\n",
       "            </tr>\n",
       "            <tr>\n",
       "                        <th id=\"T_35e08344_d679_11e9_b49f_8c8590344157level0_row5\" class=\"row_heading level0 row5\" >30-34</th>\n",
       "                        <td id=\"T_35e08344_d679_11e9_b49f_8c8590344157row5_col0\" class=\"data row5 col0\" >52</td>\n",
       "                        <td id=\"T_35e08344_d679_11e9_b49f_8c8590344157row5_col1\" class=\"data row5 col1\" >9.03</td>\n",
       "            </tr>\n",
       "            <tr>\n",
       "                        <th id=\"T_35e08344_d679_11e9_b49f_8c8590344157level0_row6\" class=\"row_heading level0 row6\" >35-39</th>\n",
       "                        <td id=\"T_35e08344_d679_11e9_b49f_8c8590344157row6_col0\" class=\"data row6 col0\" >31</td>\n",
       "                        <td id=\"T_35e08344_d679_11e9_b49f_8c8590344157row6_col1\" class=\"data row6 col1\" >5.38</td>\n",
       "            </tr>\n",
       "            <tr>\n",
       "                        <th id=\"T_35e08344_d679_11e9_b49f_8c8590344157level0_row7\" class=\"row_heading level0 row7\" >40+</th>\n",
       "                        <td id=\"T_35e08344_d679_11e9_b49f_8c8590344157row7_col0\" class=\"data row7 col0\" >12</td>\n",
       "                        <td id=\"T_35e08344_d679_11e9_b49f_8c8590344157row7_col1\" class=\"data row7 col1\" >2.08</td>\n",
       "            </tr>\n",
       "    </tbody></table>"
      ],
      "text/plain": [
       "<pandas.io.formats.style.Styler at 0x11ce85f98>"
      ]
     },
     "execution_count": 13,
     "metadata": {},
     "output_type": "execute_result"
    }
   ],
   "source": [
    "# Create a groupby object based upon \"Age Group\"\n",
    "groupAge = purchase_data.groupby(\"Age Group\")\n",
    "# Total  Count\n",
    "countTotal_age = groupAge[\"SN\"].nunique()\n",
    "# Percentage of Players\n",
    "percentagePlayers_age = countTotal_age / totalPlayers * 100\n",
    "\n",
    "#Create a summary data frame to hold the results\n",
    "ageDemographics_table = pd.DataFrame({\"Total Count\":countTotal_age, \n",
    "                                     \"Percentage of Players\":percentagePlayers_age})\n",
    "\n",
    "ageDemographics_table.style.format({'Percentage of Players':\"{0:0.2f}\"})"
   ]
  },
  {
   "cell_type": "markdown",
   "metadata": {},
   "source": [
    "## Purchasing Analysis (Age) "
   ]
  },
  {
   "cell_type": "code",
   "execution_count": 14,
   "metadata": {},
   "outputs": [
    {
     "data": {
      "text/html": [
       "<style  type=\"text/css\" >\n",
       "</style><table id=\"T_35e4aa78_d679_11e9_b49f_8c8590344157\" ><thead>    <tr>        <th class=\"blank level0\" ></th>        <th class=\"col_heading level0 col0\" >Purchase Count</th>        <th class=\"col_heading level0 col1\" >Avg Purchase Price</th>        <th class=\"col_heading level0 col2\" >Total Purchase Value</th>        <th class=\"col_heading level0 col3\" >Avg Total Purchase per Person</th>    </tr>    <tr>        <th class=\"index_name level0\" >Age Group</th>        <th class=\"blank\" ></th>        <th class=\"blank\" ></th>        <th class=\"blank\" ></th>        <th class=\"blank\" ></th>    </tr></thead><tbody>\n",
       "                <tr>\n",
       "                        <th id=\"T_35e4aa78_d679_11e9_b49f_8c8590344157level0_row0\" class=\"row_heading level0 row0\" ><10</th>\n",
       "                        <td id=\"T_35e4aa78_d679_11e9_b49f_8c8590344157row0_col0\" class=\"data row0 col0\" >23</td>\n",
       "                        <td id=\"T_35e4aa78_d679_11e9_b49f_8c8590344157row0_col1\" class=\"data row0 col1\" >$3.35</td>\n",
       "                        <td id=\"T_35e4aa78_d679_11e9_b49f_8c8590344157row0_col2\" class=\"data row0 col2\" >$77.13</td>\n",
       "                        <td id=\"T_35e4aa78_d679_11e9_b49f_8c8590344157row0_col3\" class=\"data row0 col3\" >$4.54</td>\n",
       "            </tr>\n",
       "            <tr>\n",
       "                        <th id=\"T_35e4aa78_d679_11e9_b49f_8c8590344157level0_row1\" class=\"row_heading level0 row1\" >10-14</th>\n",
       "                        <td id=\"T_35e4aa78_d679_11e9_b49f_8c8590344157row1_col0\" class=\"data row1 col0\" >28</td>\n",
       "                        <td id=\"T_35e4aa78_d679_11e9_b49f_8c8590344157row1_col1\" class=\"data row1 col1\" >$2.96</td>\n",
       "                        <td id=\"T_35e4aa78_d679_11e9_b49f_8c8590344157row1_col2\" class=\"data row1 col2\" >$82.78</td>\n",
       "                        <td id=\"T_35e4aa78_d679_11e9_b49f_8c8590344157row1_col3\" class=\"data row1 col3\" >$3.76</td>\n",
       "            </tr>\n",
       "            <tr>\n",
       "                        <th id=\"T_35e4aa78_d679_11e9_b49f_8c8590344157level0_row2\" class=\"row_heading level0 row2\" >15-19</th>\n",
       "                        <td id=\"T_35e4aa78_d679_11e9_b49f_8c8590344157row2_col0\" class=\"data row2 col0\" >136</td>\n",
       "                        <td id=\"T_35e4aa78_d679_11e9_b49f_8c8590344157row2_col1\" class=\"data row2 col1\" >$3.04</td>\n",
       "                        <td id=\"T_35e4aa78_d679_11e9_b49f_8c8590344157row2_col2\" class=\"data row2 col2\" >$412.89</td>\n",
       "                        <td id=\"T_35e4aa78_d679_11e9_b49f_8c8590344157row2_col3\" class=\"data row2 col3\" >$3.86</td>\n",
       "            </tr>\n",
       "            <tr>\n",
       "                        <th id=\"T_35e4aa78_d679_11e9_b49f_8c8590344157level0_row3\" class=\"row_heading level0 row3\" >20-24</th>\n",
       "                        <td id=\"T_35e4aa78_d679_11e9_b49f_8c8590344157row3_col0\" class=\"data row3 col0\" >365</td>\n",
       "                        <td id=\"T_35e4aa78_d679_11e9_b49f_8c8590344157row3_col1\" class=\"data row3 col1\" >$3.05</td>\n",
       "                        <td id=\"T_35e4aa78_d679_11e9_b49f_8c8590344157row3_col2\" class=\"data row3 col2\" >$1,114.06</td>\n",
       "                        <td id=\"T_35e4aa78_d679_11e9_b49f_8c8590344157row3_col3\" class=\"data row3 col3\" >$4.32</td>\n",
       "            </tr>\n",
       "            <tr>\n",
       "                        <th id=\"T_35e4aa78_d679_11e9_b49f_8c8590344157level0_row4\" class=\"row_heading level0 row4\" >25-29</th>\n",
       "                        <td id=\"T_35e4aa78_d679_11e9_b49f_8c8590344157row4_col0\" class=\"data row4 col0\" >101</td>\n",
       "                        <td id=\"T_35e4aa78_d679_11e9_b49f_8c8590344157row4_col1\" class=\"data row4 col1\" >$2.90</td>\n",
       "                        <td id=\"T_35e4aa78_d679_11e9_b49f_8c8590344157row4_col2\" class=\"data row4 col2\" >$293.00</td>\n",
       "                        <td id=\"T_35e4aa78_d679_11e9_b49f_8c8590344157row4_col3\" class=\"data row4 col3\" >$3.81</td>\n",
       "            </tr>\n",
       "            <tr>\n",
       "                        <th id=\"T_35e4aa78_d679_11e9_b49f_8c8590344157level0_row5\" class=\"row_heading level0 row5\" >30-34</th>\n",
       "                        <td id=\"T_35e4aa78_d679_11e9_b49f_8c8590344157row5_col0\" class=\"data row5 col0\" >73</td>\n",
       "                        <td id=\"T_35e4aa78_d679_11e9_b49f_8c8590344157row5_col1\" class=\"data row5 col1\" >$2.93</td>\n",
       "                        <td id=\"T_35e4aa78_d679_11e9_b49f_8c8590344157row5_col2\" class=\"data row5 col2\" >$214.00</td>\n",
       "                        <td id=\"T_35e4aa78_d679_11e9_b49f_8c8590344157row5_col3\" class=\"data row5 col3\" >$4.12</td>\n",
       "            </tr>\n",
       "            <tr>\n",
       "                        <th id=\"T_35e4aa78_d679_11e9_b49f_8c8590344157level0_row6\" class=\"row_heading level0 row6\" >35-39</th>\n",
       "                        <td id=\"T_35e4aa78_d679_11e9_b49f_8c8590344157row6_col0\" class=\"data row6 col0\" >41</td>\n",
       "                        <td id=\"T_35e4aa78_d679_11e9_b49f_8c8590344157row6_col1\" class=\"data row6 col1\" >$3.60</td>\n",
       "                        <td id=\"T_35e4aa78_d679_11e9_b49f_8c8590344157row6_col2\" class=\"data row6 col2\" >$147.67</td>\n",
       "                        <td id=\"T_35e4aa78_d679_11e9_b49f_8c8590344157row6_col3\" class=\"data row6 col3\" >$4.76</td>\n",
       "            </tr>\n",
       "            <tr>\n",
       "                        <th id=\"T_35e4aa78_d679_11e9_b49f_8c8590344157level0_row7\" class=\"row_heading level0 row7\" >40+</th>\n",
       "                        <td id=\"T_35e4aa78_d679_11e9_b49f_8c8590344157row7_col0\" class=\"data row7 col0\" >13</td>\n",
       "                        <td id=\"T_35e4aa78_d679_11e9_b49f_8c8590344157row7_col1\" class=\"data row7 col1\" >$2.94</td>\n",
       "                        <td id=\"T_35e4aa78_d679_11e9_b49f_8c8590344157row7_col2\" class=\"data row7 col2\" >$38.24</td>\n",
       "                        <td id=\"T_35e4aa78_d679_11e9_b49f_8c8590344157row7_col3\" class=\"data row7 col3\" >$3.19</td>\n",
       "            </tr>\n",
       "    </tbody></table>"
      ],
      "text/plain": [
       "<pandas.io.formats.style.Styler at 0x11ce2bd30>"
      ]
     },
     "execution_count": 14,
     "metadata": {},
     "output_type": "execute_result"
    }
   ],
   "source": [
    "# Create a group based off of the bins\n",
    "groupAge_df = purchase_data.groupby(\"Age Group\")\n",
    "\n",
    "# Purchase Count\n",
    "countPurchase_age = groupAge_df[\"Purchase ID\"].count()\n",
    "# Avg Purchase Price\n",
    "avgPurchase_age = groupAge_df[\"Price\"].mean()\n",
    "# Total Purchase Value\n",
    "totalPurchase_age = groupAge_df[\"Price\"].sum()\n",
    "# Avg Total Purchase per Person\n",
    "avgPurchasePerson_age = totalPurchase_age / countTotal_age\n",
    "\n",
    "# Create a summary data frame to hold the results\n",
    "purchaseAnalysis_table = pd.DataFrame({\"Purchase Count\":countPurchase_age, \n",
    "                                     \"Avg Purchase Price\":avgPurchase_age, \n",
    "                                     \"Total Purchase Value\":totalPurchase_age, \n",
    "                                     \"Avg Total Purchase per Person\":avgPurchasePerson_age})\n",
    "\n",
    "# Data Formatting with currency style\n",
    "purchaseAnalysis_table.style.format({'Avg Purchase Price':\"${0:0.2f}\", 'Total Purchase Value':\"${:,.2f}\", \n",
    "                                     'Avg Total Purchase per Person':\"${0:0.2f}\"})"
   ]
  },
  {
   "cell_type": "markdown",
   "metadata": {},
   "source": [
    "## Top Spenders"
   ]
  },
  {
   "cell_type": "code",
   "execution_count": 15,
   "metadata": {},
   "outputs": [
    {
     "data": {
      "text/html": [
       "<style  type=\"text/css\" >\n",
       "</style><table id=\"T_35e7804a_d679_11e9_b49f_8c8590344157\" ><thead>    <tr>        <th class=\"blank level0\" ></th>        <th class=\"col_heading level0 col0\" >Purchase Count</th>        <th class=\"col_heading level0 col1\" >Avg Purchase Price</th>        <th class=\"col_heading level0 col2\" >Total Purchase Value</th>    </tr>    <tr>        <th class=\"index_name level0\" >SN</th>        <th class=\"blank\" ></th>        <th class=\"blank\" ></th>        <th class=\"blank\" ></th>    </tr></thead><tbody>\n",
       "                <tr>\n",
       "                        <th id=\"T_35e7804a_d679_11e9_b49f_8c8590344157level0_row0\" class=\"row_heading level0 row0\" >Lisosia93</th>\n",
       "                        <td id=\"T_35e7804a_d679_11e9_b49f_8c8590344157row0_col0\" class=\"data row0 col0\" >5</td>\n",
       "                        <td id=\"T_35e7804a_d679_11e9_b49f_8c8590344157row0_col1\" class=\"data row0 col1\" >$3.79</td>\n",
       "                        <td id=\"T_35e7804a_d679_11e9_b49f_8c8590344157row0_col2\" class=\"data row0 col2\" >$18.96</td>\n",
       "            </tr>\n",
       "            <tr>\n",
       "                        <th id=\"T_35e7804a_d679_11e9_b49f_8c8590344157level0_row1\" class=\"row_heading level0 row1\" >Idastidru52</th>\n",
       "                        <td id=\"T_35e7804a_d679_11e9_b49f_8c8590344157row1_col0\" class=\"data row1 col0\" >4</td>\n",
       "                        <td id=\"T_35e7804a_d679_11e9_b49f_8c8590344157row1_col1\" class=\"data row1 col1\" >$3.86</td>\n",
       "                        <td id=\"T_35e7804a_d679_11e9_b49f_8c8590344157row1_col2\" class=\"data row1 col2\" >$15.45</td>\n",
       "            </tr>\n",
       "            <tr>\n",
       "                        <th id=\"T_35e7804a_d679_11e9_b49f_8c8590344157level0_row2\" class=\"row_heading level0 row2\" >Chamjask73</th>\n",
       "                        <td id=\"T_35e7804a_d679_11e9_b49f_8c8590344157row2_col0\" class=\"data row2 col0\" >3</td>\n",
       "                        <td id=\"T_35e7804a_d679_11e9_b49f_8c8590344157row2_col1\" class=\"data row2 col1\" >$4.61</td>\n",
       "                        <td id=\"T_35e7804a_d679_11e9_b49f_8c8590344157row2_col2\" class=\"data row2 col2\" >$13.83</td>\n",
       "            </tr>\n",
       "            <tr>\n",
       "                        <th id=\"T_35e7804a_d679_11e9_b49f_8c8590344157level0_row3\" class=\"row_heading level0 row3\" >Iral74</th>\n",
       "                        <td id=\"T_35e7804a_d679_11e9_b49f_8c8590344157row3_col0\" class=\"data row3 col0\" >4</td>\n",
       "                        <td id=\"T_35e7804a_d679_11e9_b49f_8c8590344157row3_col1\" class=\"data row3 col1\" >$3.40</td>\n",
       "                        <td id=\"T_35e7804a_d679_11e9_b49f_8c8590344157row3_col2\" class=\"data row3 col2\" >$13.62</td>\n",
       "            </tr>\n",
       "            <tr>\n",
       "                        <th id=\"T_35e7804a_d679_11e9_b49f_8c8590344157level0_row4\" class=\"row_heading level0 row4\" >Iskadarya95</th>\n",
       "                        <td id=\"T_35e7804a_d679_11e9_b49f_8c8590344157row4_col0\" class=\"data row4 col0\" >3</td>\n",
       "                        <td id=\"T_35e7804a_d679_11e9_b49f_8c8590344157row4_col1\" class=\"data row4 col1\" >$4.37</td>\n",
       "                        <td id=\"T_35e7804a_d679_11e9_b49f_8c8590344157row4_col2\" class=\"data row4 col2\" >$13.10</td>\n",
       "            </tr>\n",
       "    </tbody></table>"
      ],
      "text/plain": [
       "<pandas.io.formats.style.Styler at 0x11cef8470>"
      ]
     },
     "execution_count": 15,
     "metadata": {},
     "output_type": "execute_result"
    }
   ],
   "source": [
    "groupSN_df = purchase_data.groupby(\"SN\")\n",
    "# Purchase Count\n",
    "countPurchase_SN = groupSN_df[\"Purchase ID\"].count()\n",
    "# Avg Purchase Price\n",
    "avgPurchase_SN = groupSN_df[\"Price\"].mean()\n",
    "# Total Purchase Value\n",
    "totalPurchase_SN = groupSN_df[\"Price\"].sum()\n",
    "\n",
    "topSpenders_table = pd.DataFrame({\"Purchase Count\":countPurchase_SN, \n",
    "                                     \"Avg Purchase Price\":avgPurchase_SN, \n",
    "                                     \"Total Purchase Value\":totalPurchase_SN})\n",
    "\n",
    "# Sort the total purchase value column in descending order\n",
    "\n",
    "topSpenders_sort = topSpenders_table.sort_values([\"Total Purchase Value\"], ascending=False).head()\n",
    "\n",
    "# Data Formatting with currency style\n",
    "# Memo: Manipulate data first and format last\n",
    "# Memo: Be careful not to reassign style.format to the table object\n",
    "topSpenders_sort.style.format({'Avg Purchase Price':\"${0:0.2f}\", \n",
    "                                                            'Total Purchase Value':\"${:,.2f}\"})"
   ]
  },
  {
   "cell_type": "markdown",
   "metadata": {},
   "source": [
    "## Most Popular Items "
   ]
  },
  {
   "cell_type": "code",
   "execution_count": 16,
   "metadata": {},
   "outputs": [
    {
     "data": {
      "text/html": [
       "<style  type=\"text/css\" >\n",
       "</style><table id=\"T_35eb2146_d679_11e9_b49f_8c8590344157\" ><thead>    <tr>        <th class=\"blank\" ></th>        <th class=\"blank level0\" ></th>        <th class=\"col_heading level0 col0\" >Purchase Count</th>        <th class=\"col_heading level0 col1\" >Item Price</th>        <th class=\"col_heading level0 col2\" >Total Purchase Value</th>    </tr>    <tr>        <th class=\"index_name level0\" >Item ID</th>        <th class=\"index_name level1\" >Item Name</th>        <th class=\"blank\" ></th>        <th class=\"blank\" ></th>        <th class=\"blank\" ></th>    </tr></thead><tbody>\n",
       "                <tr>\n",
       "                        <th id=\"T_35eb2146_d679_11e9_b49f_8c8590344157level0_row0\" class=\"row_heading level0 row0\" >178</th>\n",
       "                        <th id=\"T_35eb2146_d679_11e9_b49f_8c8590344157level1_row0\" class=\"row_heading level1 row0\" >Oathbreaker, Last Hope of the Breaking Storm</th>\n",
       "                        <td id=\"T_35eb2146_d679_11e9_b49f_8c8590344157row0_col0\" class=\"data row0 col0\" >12</td>\n",
       "                        <td id=\"T_35eb2146_d679_11e9_b49f_8c8590344157row0_col1\" class=\"data row0 col1\" >$4.23</td>\n",
       "                        <td id=\"T_35eb2146_d679_11e9_b49f_8c8590344157row0_col2\" class=\"data row0 col2\" >$50.76</td>\n",
       "            </tr>\n",
       "            <tr>\n",
       "                        <th id=\"T_35eb2146_d679_11e9_b49f_8c8590344157level0_row1\" class=\"row_heading level0 row1\" >145</th>\n",
       "                        <th id=\"T_35eb2146_d679_11e9_b49f_8c8590344157level1_row1\" class=\"row_heading level1 row1\" >Fiery Glass Crusader</th>\n",
       "                        <td id=\"T_35eb2146_d679_11e9_b49f_8c8590344157row1_col0\" class=\"data row1 col0\" >9</td>\n",
       "                        <td id=\"T_35eb2146_d679_11e9_b49f_8c8590344157row1_col1\" class=\"data row1 col1\" >$4.58</td>\n",
       "                        <td id=\"T_35eb2146_d679_11e9_b49f_8c8590344157row1_col2\" class=\"data row1 col2\" >$41.22</td>\n",
       "            </tr>\n",
       "            <tr>\n",
       "                        <th id=\"T_35eb2146_d679_11e9_b49f_8c8590344157level0_row2\" class=\"row_heading level0 row2\" >108</th>\n",
       "                        <th id=\"T_35eb2146_d679_11e9_b49f_8c8590344157level1_row2\" class=\"row_heading level1 row2\" >Extraction, Quickblade Of Trembling Hands</th>\n",
       "                        <td id=\"T_35eb2146_d679_11e9_b49f_8c8590344157row2_col0\" class=\"data row2 col0\" >9</td>\n",
       "                        <td id=\"T_35eb2146_d679_11e9_b49f_8c8590344157row2_col1\" class=\"data row2 col1\" >$3.53</td>\n",
       "                        <td id=\"T_35eb2146_d679_11e9_b49f_8c8590344157row2_col2\" class=\"data row2 col2\" >$31.77</td>\n",
       "            </tr>\n",
       "            <tr>\n",
       "                        <th id=\"T_35eb2146_d679_11e9_b49f_8c8590344157level0_row3\" class=\"row_heading level0 row3\" >82</th>\n",
       "                        <th id=\"T_35eb2146_d679_11e9_b49f_8c8590344157level1_row3\" class=\"row_heading level1 row3\" >Nirvana</th>\n",
       "                        <td id=\"T_35eb2146_d679_11e9_b49f_8c8590344157row3_col0\" class=\"data row3 col0\" >9</td>\n",
       "                        <td id=\"T_35eb2146_d679_11e9_b49f_8c8590344157row3_col1\" class=\"data row3 col1\" >$4.90</td>\n",
       "                        <td id=\"T_35eb2146_d679_11e9_b49f_8c8590344157row3_col2\" class=\"data row3 col2\" >$44.10</td>\n",
       "            </tr>\n",
       "            <tr>\n",
       "                        <th id=\"T_35eb2146_d679_11e9_b49f_8c8590344157level0_row4\" class=\"row_heading level0 row4\" >19</th>\n",
       "                        <th id=\"T_35eb2146_d679_11e9_b49f_8c8590344157level1_row4\" class=\"row_heading level1 row4\" >Pursuit, Cudgel of Necromancy</th>\n",
       "                        <td id=\"T_35eb2146_d679_11e9_b49f_8c8590344157row4_col0\" class=\"data row4 col0\" >8</td>\n",
       "                        <td id=\"T_35eb2146_d679_11e9_b49f_8c8590344157row4_col1\" class=\"data row4 col1\" >$1.02</td>\n",
       "                        <td id=\"T_35eb2146_d679_11e9_b49f_8c8590344157row4_col2\" class=\"data row4 col2\" >$8.16</td>\n",
       "            </tr>\n",
       "    </tbody></table>"
      ],
      "text/plain": [
       "<pandas.io.formats.style.Styler at 0x11cf09320>"
      ]
     },
     "execution_count": 16,
     "metadata": {},
     "output_type": "execute_result"
    }
   ],
   "source": [
    "#Get the Item ID, Item Name, and Item Price columns\n",
    "# items = purchase_data.loc[:, [\"Item ID\", \"Item Name\", \"Price\"]]\n",
    "items = purchase_data[[\"Item ID\", \"Item Name\", \"Price\"]]\n",
    "\n",
    "#Group by Item ID and Item Name\n",
    "groupItems_data = items.groupby(['Item ID', 'Item Name'])\n",
    "\n",
    "# Purchase Count\n",
    "countPurchase_items = groupItems_data[\"Item ID\"].count()\n",
    "\n",
    "# Total Purchase Value\n",
    "totalPurchase_items = groupItems_data[\"Price\"].sum()\n",
    "\n",
    "# Item Price\n",
    "price_items = totalPurchase_items / countPurchase_items\n",
    "\n",
    "#Create a summary data frame to hold the results\n",
    "MostPopularItems_table = pd.DataFrame({\"Purchase Count\":countPurchase_items, \n",
    "                                      \"Item Price\":price_items, \"Total Purchase Value\":totalPurchase_items})\n",
    "\n",
    "#Sort the purchase count column in descending order\n",
    "popularItems_sort= MostPopularItems_table.sort_values([\"Purchase Count\"], ascending=False).head()\n",
    "\n",
    "# Data Formatting with currency style\n",
    "popularItems_sort.style.format({'Item Price':\"${0:0.2f}\", \n",
    "                                                           'Total Purchase Value':\"${0:0.2f}\"})"
   ]
  },
  {
   "cell_type": "markdown",
   "metadata": {},
   "source": [
    "## Most Profitable Items "
   ]
  },
  {
   "cell_type": "code",
   "execution_count": 17,
   "metadata": {},
   "outputs": [
    {
     "data": {
      "text/html": [
       "<style  type=\"text/css\" >\n",
       "</style><table id=\"T_35ee1fc2_d679_11e9_b49f_8c8590344157\" ><thead>    <tr>        <th class=\"blank\" ></th>        <th class=\"blank level0\" ></th>        <th class=\"col_heading level0 col0\" >Purchase Count</th>        <th class=\"col_heading level0 col1\" >Item Price</th>        <th class=\"col_heading level0 col2\" >Total Purchase Value</th>    </tr>    <tr>        <th class=\"index_name level0\" >Item ID</th>        <th class=\"index_name level1\" >Item Name</th>        <th class=\"blank\" ></th>        <th class=\"blank\" ></th>        <th class=\"blank\" ></th>    </tr></thead><tbody>\n",
       "                <tr>\n",
       "                        <th id=\"T_35ee1fc2_d679_11e9_b49f_8c8590344157level0_row0\" class=\"row_heading level0 row0\" >178</th>\n",
       "                        <th id=\"T_35ee1fc2_d679_11e9_b49f_8c8590344157level1_row0\" class=\"row_heading level1 row0\" >Oathbreaker, Last Hope of the Breaking Storm</th>\n",
       "                        <td id=\"T_35ee1fc2_d679_11e9_b49f_8c8590344157row0_col0\" class=\"data row0 col0\" >12</td>\n",
       "                        <td id=\"T_35ee1fc2_d679_11e9_b49f_8c8590344157row0_col1\" class=\"data row0 col1\" >$4.23</td>\n",
       "                        <td id=\"T_35ee1fc2_d679_11e9_b49f_8c8590344157row0_col2\" class=\"data row0 col2\" >$50.76</td>\n",
       "            </tr>\n",
       "            <tr>\n",
       "                        <th id=\"T_35ee1fc2_d679_11e9_b49f_8c8590344157level0_row1\" class=\"row_heading level0 row1\" >82</th>\n",
       "                        <th id=\"T_35ee1fc2_d679_11e9_b49f_8c8590344157level1_row1\" class=\"row_heading level1 row1\" >Nirvana</th>\n",
       "                        <td id=\"T_35ee1fc2_d679_11e9_b49f_8c8590344157row1_col0\" class=\"data row1 col0\" >9</td>\n",
       "                        <td id=\"T_35ee1fc2_d679_11e9_b49f_8c8590344157row1_col1\" class=\"data row1 col1\" >$4.90</td>\n",
       "                        <td id=\"T_35ee1fc2_d679_11e9_b49f_8c8590344157row1_col2\" class=\"data row1 col2\" >$44.10</td>\n",
       "            </tr>\n",
       "            <tr>\n",
       "                        <th id=\"T_35ee1fc2_d679_11e9_b49f_8c8590344157level0_row2\" class=\"row_heading level0 row2\" >145</th>\n",
       "                        <th id=\"T_35ee1fc2_d679_11e9_b49f_8c8590344157level1_row2\" class=\"row_heading level1 row2\" >Fiery Glass Crusader</th>\n",
       "                        <td id=\"T_35ee1fc2_d679_11e9_b49f_8c8590344157row2_col0\" class=\"data row2 col0\" >9</td>\n",
       "                        <td id=\"T_35ee1fc2_d679_11e9_b49f_8c8590344157row2_col1\" class=\"data row2 col1\" >$4.58</td>\n",
       "                        <td id=\"T_35ee1fc2_d679_11e9_b49f_8c8590344157row2_col2\" class=\"data row2 col2\" >$41.22</td>\n",
       "            </tr>\n",
       "            <tr>\n",
       "                        <th id=\"T_35ee1fc2_d679_11e9_b49f_8c8590344157level0_row3\" class=\"row_heading level0 row3\" >92</th>\n",
       "                        <th id=\"T_35ee1fc2_d679_11e9_b49f_8c8590344157level1_row3\" class=\"row_heading level1 row3\" >Final Critic</th>\n",
       "                        <td id=\"T_35ee1fc2_d679_11e9_b49f_8c8590344157row3_col0\" class=\"data row3 col0\" >8</td>\n",
       "                        <td id=\"T_35ee1fc2_d679_11e9_b49f_8c8590344157row3_col1\" class=\"data row3 col1\" >$4.88</td>\n",
       "                        <td id=\"T_35ee1fc2_d679_11e9_b49f_8c8590344157row3_col2\" class=\"data row3 col2\" >$39.04</td>\n",
       "            </tr>\n",
       "            <tr>\n",
       "                        <th id=\"T_35ee1fc2_d679_11e9_b49f_8c8590344157level0_row4\" class=\"row_heading level0 row4\" >103</th>\n",
       "                        <th id=\"T_35ee1fc2_d679_11e9_b49f_8c8590344157level1_row4\" class=\"row_heading level1 row4\" >Singed Scalpel</th>\n",
       "                        <td id=\"T_35ee1fc2_d679_11e9_b49f_8c8590344157row4_col0\" class=\"data row4 col0\" >8</td>\n",
       "                        <td id=\"T_35ee1fc2_d679_11e9_b49f_8c8590344157row4_col1\" class=\"data row4 col1\" >$4.35</td>\n",
       "                        <td id=\"T_35ee1fc2_d679_11e9_b49f_8c8590344157row4_col2\" class=\"data row4 col2\" >$34.80</td>\n",
       "            </tr>\n",
       "    </tbody></table>"
      ],
      "text/plain": [
       "<pandas.io.formats.style.Styler at 0x11ce2bcc0>"
      ]
     },
     "execution_count": 17,
     "metadata": {},
     "output_type": "execute_result"
    }
   ],
   "source": [
    "# Sort the above table by total purchase value in descending order\n",
    "totalPurchase_sort = MostPopularItems_table.sort_values([\"Total Purchase Value\"], ascending=False).head()\n",
    "totalPurchase_sort\n",
    "# Data Formatting with currency style\n",
    "totalPurchase_sort.style.format({'Item Price':\"${0:0.2f}\", \n",
    "                                                           'Total Purchase Value':\"${0:0.2f}\"})"
   ]
  },
  {
   "cell_type": "code",
   "execution_count": null,
   "metadata": {},
   "outputs": [],
   "source": []
  }
 ],
 "metadata": {
  "kernelspec": {
   "display_name": "Python 3",
   "language": "python",
   "name": "python3"
  },
  "language_info": {
   "codemirror_mode": {
    "name": "ipython",
    "version": 3
   },
   "file_extension": ".py",
   "mimetype": "text/x-python",
   "name": "python",
   "nbconvert_exporter": "python",
   "pygments_lexer": "ipython3",
   "version": "3.7.3"
  }
 },
 "nbformat": 4,
 "nbformat_minor": 2
}
